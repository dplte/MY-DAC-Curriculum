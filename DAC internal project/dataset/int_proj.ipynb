{
 "cells": [
  {
   "cell_type": "code",
   "execution_count": 22,
   "metadata": {},
   "outputs": [],
   "source": [
    "import pandas as pd\n",
    "import numpy as np\n",
    "from sklearn.model_selection import train_test_split\n",
    "from sklearn.linear_model import LinearRegression\n",
    "from sklearn.ensemble import RandomForestRegressor\n",
    "from sklearn.preprocessing import OneHotEncoder\n",
    "from sklearn.compose import ColumnTransformer\n",
    "from sklearn.pipeline import Pipeline\n",
    "from sklearn.metrics import mean_squared_error, r2_score"
   ]
  },
  {
   "cell_type": "code",
   "execution_count": 14,
   "metadata": {},
   "outputs": [],
   "source": [
    "df = pd.read_csv(\"/Users/Dylan/Desktop/MY-DAC-Curriculum/DAC internal project/dataset/Students_Performance.csv\")"
   ]
  },
  {
   "cell_type": "code",
   "execution_count": 15,
   "metadata": {},
   "outputs": [
    {
     "data": {
      "text/html": [
       "<div>\n",
       "<style scoped>\n",
       "    .dataframe tbody tr th:only-of-type {\n",
       "        vertical-align: middle;\n",
       "    }\n",
       "\n",
       "    .dataframe tbody tr th {\n",
       "        vertical-align: top;\n",
       "    }\n",
       "\n",
       "    .dataframe thead th {\n",
       "        text-align: right;\n",
       "    }\n",
       "</style>\n",
       "<table border=\"1\" class=\"dataframe\">\n",
       "  <thead>\n",
       "    <tr style=\"text-align: right;\">\n",
       "      <th></th>\n",
       "      <th>gender</th>\n",
       "      <th>race/ethnicity</th>\n",
       "      <th>parental level of education</th>\n",
       "      <th>lunch</th>\n",
       "      <th>test preparation course</th>\n",
       "      <th>math score</th>\n",
       "      <th>reading score</th>\n",
       "      <th>writing score</th>\n",
       "    </tr>\n",
       "  </thead>\n",
       "  <tbody>\n",
       "    <tr>\n",
       "      <th>0</th>\n",
       "      <td>female</td>\n",
       "      <td>group B</td>\n",
       "      <td>bachelor's degree</td>\n",
       "      <td>standard</td>\n",
       "      <td>none</td>\n",
       "      <td>72</td>\n",
       "      <td>72</td>\n",
       "      <td>74</td>\n",
       "    </tr>\n",
       "    <tr>\n",
       "      <th>1</th>\n",
       "      <td>female</td>\n",
       "      <td>group C</td>\n",
       "      <td>some college</td>\n",
       "      <td>standard</td>\n",
       "      <td>completed</td>\n",
       "      <td>69</td>\n",
       "      <td>90</td>\n",
       "      <td>88</td>\n",
       "    </tr>\n",
       "    <tr>\n",
       "      <th>2</th>\n",
       "      <td>female</td>\n",
       "      <td>group B</td>\n",
       "      <td>master's degree</td>\n",
       "      <td>standard</td>\n",
       "      <td>none</td>\n",
       "      <td>90</td>\n",
       "      <td>95</td>\n",
       "      <td>93</td>\n",
       "    </tr>\n",
       "    <tr>\n",
       "      <th>3</th>\n",
       "      <td>male</td>\n",
       "      <td>group A</td>\n",
       "      <td>associate's degree</td>\n",
       "      <td>free/reduced</td>\n",
       "      <td>none</td>\n",
       "      <td>47</td>\n",
       "      <td>57</td>\n",
       "      <td>44</td>\n",
       "    </tr>\n",
       "    <tr>\n",
       "      <th>4</th>\n",
       "      <td>male</td>\n",
       "      <td>group C</td>\n",
       "      <td>some college</td>\n",
       "      <td>standard</td>\n",
       "      <td>none</td>\n",
       "      <td>76</td>\n",
       "      <td>78</td>\n",
       "      <td>75</td>\n",
       "    </tr>\n",
       "  </tbody>\n",
       "</table>\n",
       "</div>"
      ],
      "text/plain": [
       "   gender race/ethnicity parental level of education         lunch  \\\n",
       "0  female        group B           bachelor's degree      standard   \n",
       "1  female        group C                some college      standard   \n",
       "2  female        group B             master's degree      standard   \n",
       "3    male        group A          associate's degree  free/reduced   \n",
       "4    male        group C                some college      standard   \n",
       "\n",
       "  test preparation course  math score  reading score  writing score  \n",
       "0                    none          72             72             74  \n",
       "1               completed          69             90             88  \n",
       "2                    none          90             95             93  \n",
       "3                    none          47             57             44  \n",
       "4                    none          76             78             75  "
      ]
     },
     "execution_count": 15,
     "metadata": {},
     "output_type": "execute_result"
    }
   ],
   "source": [
    "df.head()"
   ]
  },
  {
   "cell_type": "code",
   "execution_count": 16,
   "metadata": {},
   "outputs": [
    {
     "name": "stdout",
     "output_type": "stream",
     "text": [
      "   gender race/ethnicity parental level of education         lunch  \\\n",
      "0  female        group B           bachelor's degree      standard   \n",
      "1  female        group C                some college      standard   \n",
      "2  female        group B             master's degree      standard   \n",
      "3    male        group A          associate's degree  free/reduced   \n",
      "4    male        group C                some college      standard   \n",
      "\n",
      "  test preparation course  math score  reading score  writing score  \\\n",
      "0                    none          72             72             74   \n",
      "1               completed          69             90             88   \n",
      "2                    none          90             95             93   \n",
      "3                    none          47             57             44   \n",
      "4                    none          76             78             75   \n",
      "\n",
      "   total score  average score  \n",
      "0          218      72.666667  \n",
      "1          247      82.333333  \n",
      "2          278      92.666667  \n",
      "3          148      49.333333  \n",
      "4          229      76.333333  \n"
     ]
    }
   ],
   "source": [
    "# Create a new column 'total score' as the sum of the three score columns\n",
    "df['total score'] = df['math score'] + df['reading score'] + df['writing score']\n",
    "df['average score'] = df['total score'] /3\n",
    "\n",
    "# Display the updated DataFrame\n",
    "print(df.head())"
   ]
  },
  {
   "cell_type": "code",
   "execution_count": 17,
   "metadata": {},
   "outputs": [
    {
     "name": "stdout",
     "output_type": "stream",
     "text": [
      "Math Model: RMSE = 15.722658369921794 , R^2 = -0.015877420979474755\n",
      "Reading Model: RMSE = 14.92401281424119 , R^2 = 0.015724534760143127\n",
      "Writing Model: RMSE = 15.100788277920621 , R^2 = 0.053868273740532935\n"
     ]
    },
    {
     "name": "stderr",
     "output_type": "stream",
     "text": [
      "c:\\Users\\Dylan\\Desktop\\MY-DAC-Curriculum\\.venv\\Lib\\site-packages\\sklearn\\metrics\\_regression.py:492: FutureWarning: 'squared' is deprecated in version 1.4 and will be removed in 1.6. To calculate the root mean squared error, use the function'root_mean_squared_error'.\n",
      "  warnings.warn(\n",
      "c:\\Users\\Dylan\\Desktop\\MY-DAC-Curriculum\\.venv\\Lib\\site-packages\\sklearn\\metrics\\_regression.py:492: FutureWarning: 'squared' is deprecated in version 1.4 and will be removed in 1.6. To calculate the root mean squared error, use the function'root_mean_squared_error'.\n",
      "  warnings.warn(\n",
      "c:\\Users\\Dylan\\Desktop\\MY-DAC-Curriculum\\.venv\\Lib\\site-packages\\sklearn\\metrics\\_regression.py:492: FutureWarning: 'squared' is deprecated in version 1.4 and will be removed in 1.6. To calculate the root mean squared error, use the function'root_mean_squared_error'.\n",
      "  warnings.warn(\n"
     ]
    }
   ],
   "source": [
    "# Encode the test preparation course column\n",
    "df['test preparation course'] = df['test preparation course'].map({'none': 0, 'completed': 1})\n",
    "\n",
    "# Features and target variables\n",
    "X = df[['test preparation course']]\n",
    "y_math = df['math score']\n",
    "y_reading = df['reading score']\n",
    "y_writing = df['writing score']\n",
    "\n",
    "# Split the data into training and test sets\n",
    "X_train, X_test, y_math_train, y_math_test = train_test_split(X, y_math, test_size=0.2, random_state=42)\n",
    "_, _, y_reading_train, y_reading_test = train_test_split(X, y_reading, test_size=0.2, random_state=42)\n",
    "_, _, y_writing_train, y_writing_test = train_test_split(X, y_writing, test_size=0.2, random_state=42)\n",
    "\n",
    "# Train linear regression models\n",
    "math_model = LinearRegression().fit(X_train, y_math_train)\n",
    "reading_model = LinearRegression().fit(X_train, y_reading_train)\n",
    "writing_model = LinearRegression().fit(X_train, y_writing_train)\n",
    "\n",
    "# Make predictions\n",
    "y_math_pred = math_model.predict(X_test)\n",
    "y_reading_pred = reading_model.predict(X_test)\n",
    "y_writing_pred = writing_model.predict(X_test)\n",
    "\n",
    "# Evaluate models\n",
    "math_rmse = mean_squared_error(y_math_test, y_math_pred, squared=False)\n",
    "math_r2 = r2_score(y_math_test, y_math_pred)\n",
    "\n",
    "reading_rmse = mean_squared_error(y_reading_test, y_reading_pred, squared=False)\n",
    "reading_r2 = r2_score(y_reading_test, y_reading_pred)\n",
    "\n",
    "writing_rmse = mean_squared_error(y_writing_test, y_writing_pred, squared=False)\n",
    "writing_r2 = r2_score(y_writing_test, y_writing_pred)\n",
    "\n",
    "# Print evaluation results\n",
    "print(\"Math Model: RMSE =\", math_rmse, \", R^2 =\", math_r2)\n",
    "print(\"Reading Model: RMSE =\", reading_rmse, \", R^2 =\", reading_r2)\n",
    "print(\"Writing Model: RMSE =\", writing_rmse, \", R^2 =\", writing_r2)"
   ]
  }
 ],
 "metadata": {
  "kernelspec": {
   "display_name": ".venv",
   "language": "python",
   "name": "python3"
  },
  "language_info": {
   "codemirror_mode": {
    "name": "ipython",
    "version": 3
   },
   "file_extension": ".py",
   "mimetype": "text/x-python",
   "name": "python",
   "nbconvert_exporter": "python",
   "pygments_lexer": "ipython3",
   "version": "3.13.0"
  }
 },
 "nbformat": 4,
 "nbformat_minor": 2
}
